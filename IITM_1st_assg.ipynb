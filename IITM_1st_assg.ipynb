{
  "nbformat": 4,
  "nbformat_minor": 0,
  "metadata": {
    "colab": {
      "provenance": []
    },
    "kernelspec": {
      "name": "python3",
      "display_name": "Python 3"
    },
    "language_info": {
      "name": "python"
    }
  },
  "cells": [
    {
      "cell_type": "markdown",
      "source": [
        "Import necessary libraries"
      ],
      "metadata": {
        "id": "M5_v6RGPA3or"
      }
    },
    {
      "cell_type": "code",
      "execution_count": 100,
      "metadata": {
        "id": "NAZPGh93B4b3"
      },
      "outputs": [],
      "source": [
        "import numpy as np\n",
        "import matplotlib.pyplot as plt\n",
        "import pandas as pd\n",
        "import seaborn as sns\n",
        "from sklearn.preprocessing import LabelEncoder\n",
        "from sklearn.feature_selection import mutual_info_classif\n",
        "from scipy.stats import f_oneway\n",
        "from sklearn.preprocessing import StandardScaler\n",
        "from sklearn.tree import DecisionTreeClassifier\n",
        "from sklearn.ensemble import RandomForestClassifier, HistGradientBoostingClassifier\n",
        "from sklearn.model_selection import RandomizedSearchCV\n",
        "from sklearn.metrics import accuracy_score, confusion_matrix, classification_report\n",
        "from sklearn.model_selection import cross_val_score, KFold, StratifiedKFold"
      ]
    },
    {
      "cell_type": "code",
      "source": [
        "X = pd.read_csv(\"StellarData.csv\") #load datset"
      ],
      "metadata": {
        "id": "RHRNd8oaCcFV"
      },
      "execution_count": 101,
      "outputs": []
    },
    {
      "cell_type": "code",
      "source": [
        "X.info() #get some basic info"
      ],
      "metadata": {
        "colab": {
          "base_uri": "https://localhost:8080/"
        },
        "id": "noBH9zrMcU-O",
        "outputId": "2c333dd1-8b89-46ab-d0e9-19b26a5a752c"
      },
      "execution_count": 102,
      "outputs": [
        {
          "output_type": "stream",
          "name": "stdout",
          "text": [
            "<class 'pandas.core.frame.DataFrame'>\n",
            "RangeIndex: 9150 entries, 0 to 9149\n",
            "Data columns (total 17 columns):\n",
            " #   Column           Non-Null Count  Dtype  \n",
            "---  ------           --------------  -----  \n",
            " 0   Right_Ascention  9150 non-null   float64\n",
            " 1   Declination      9150 non-null   float64\n",
            " 2   u                9150 non-null   float64\n",
            " 3   g                9150 non-null   float64\n",
            " 4   r                9150 non-null   float64\n",
            " 5   i                9150 non-null   float64\n",
            " 6   z                9150 non-null   float64\n",
            " 7   Run_Number       9150 non-null   int64  \n",
            " 8   Rerun_Number     9150 non-null   int64  \n",
            " 9   Camera_Column    9150 non-null   int64  \n",
            " 10  Field_Number     9150 non-null   int64  \n",
            " 11  specobjid        9150 non-null   float64\n",
            " 12  class            9150 non-null   object \n",
            " 13  redshift         9150 non-null   float64\n",
            " 14  plate            9150 non-null   int64  \n",
            " 15  mjd              9150 non-null   int64  \n",
            " 16  fiberid          9150 non-null   int64  \n",
            "dtypes: float64(9), int64(7), object(1)\n",
            "memory usage: 1.2+ MB\n"
          ]
        }
      ]
    },
    {
      "cell_type": "code",
      "source": [
        "y = X.pop(\"class\") #remove target variable to keep it independent\n",
        "from sklearn.model_selection import train_test_split\n",
        "X_train, X_test, y_train, y_test = train_test_split(X, y, test_size=0.2, random_state=69) #split dataset to preserve an independent test set for testing model"
      ],
      "metadata": {
        "id": "twTM1-IjgKWi"
      },
      "execution_count": 103,
      "outputs": []
    },
    {
      "cell_type": "code",
      "source": [
        "X.describe()"
      ],
      "metadata": {
        "colab": {
          "base_uri": "https://localhost:8080/",
          "height": 320
        },
        "id": "bH8t4bSnca9M",
        "outputId": "bc5f615b-049c-4776-dab2-4cc5d7820ed7"
      },
      "execution_count": 104,
      "outputs": [
        {
          "output_type": "execute_result",
          "data": {
            "text/plain": [
              "       Right_Ascention  Declination            u            g            r  \\\n",
              "count      9150.000000  9150.000000  9150.000000  9150.000000  9150.000000   \n",
              "mean        175.349953    14.303436    18.589297    17.250536    16.686981   \n",
              "std          47.844894    24.879069     0.842478     0.876612     0.961771   \n",
              "min           8.235100    -5.382632    12.988970    12.799550    12.431600   \n",
              "25%         157.584047    -0.541007    18.124177    16.737642    16.103342   \n",
              "50%         180.326741     0.384792    18.822605    17.415660    16.757515   \n",
              "75%         201.069175    14.646150    19.246002    17.893400    17.369435   \n",
              "max         260.884382    68.542265    19.599900    19.918970    24.802040   \n",
              "\n",
              "                 i            z   Run_Number  Rerun_Number  Camera_Column  \\\n",
              "count  9150.000000  9150.000000  9150.000000        9150.0    9150.000000   \n",
              "mean     16.418556    16.250796   975.917596         301.0       3.644481   \n",
              "std       1.027774     1.085480   272.211353           0.0       1.665374   \n",
              "min      11.947210    11.610410   308.000000         301.0       1.000000   \n",
              "25%      15.790297    15.551233   752.000000         301.0       2.000000   \n",
              "50%      16.448885    16.263595   756.000000         301.0       4.000000   \n",
              "75%      17.097865    16.959817  1331.000000         301.0       5.000000   \n",
              "max      28.179630    22.833060  1412.000000         301.0       6.000000   \n",
              "\n",
              "       Field_Number     specobjid     redshift        plate           mjd  \\\n",
              "count   9150.000000  9.150000e+03  9150.000000  9150.000000   9150.000000   \n",
              "mean     302.138251  1.663396e+18     0.043896  1477.306448  52966.687104   \n",
              "std      162.636560  1.986829e+18     0.052491  1764.647895   1503.083498   \n",
              "min       11.000000  2.995780e+17    -0.004136   266.000000  51578.000000   \n",
              "25%      185.000000  3.400232e+17     0.000050   302.000000  51900.000000   \n",
              "50%      299.000000  4.989465e+17     0.030734   443.000000  51999.000000   \n",
              "75%      413.000000  2.881348e+18     0.080849  2559.000000  54468.000000   \n",
              "max      768.000000  9.468830e+18     0.855881  8410.000000  57481.000000   \n",
              "\n",
              "           fiberid  \n",
              "count  9150.000000  \n",
              "mean    350.422842  \n",
              "std     205.659557  \n",
              "min       1.000000  \n",
              "25%     183.000000  \n",
              "50%     347.000000  \n",
              "75%     508.000000  \n",
              "max    1000.000000  "
            ],
            "text/html": [
              "\n",
              "  <div id=\"df-764b23a9-45c9-4198-b0aa-26741d1eea69\" class=\"colab-df-container\">\n",
              "    <div>\n",
              "<style scoped>\n",
              "    .dataframe tbody tr th:only-of-type {\n",
              "        vertical-align: middle;\n",
              "    }\n",
              "\n",
              "    .dataframe tbody tr th {\n",
              "        vertical-align: top;\n",
              "    }\n",
              "\n",
              "    .dataframe thead th {\n",
              "        text-align: right;\n",
              "    }\n",
              "</style>\n",
              "<table border=\"1\" class=\"dataframe\">\n",
              "  <thead>\n",
              "    <tr style=\"text-align: right;\">\n",
              "      <th></th>\n",
              "      <th>Right_Ascention</th>\n",
              "      <th>Declination</th>\n",
              "      <th>u</th>\n",
              "      <th>g</th>\n",
              "      <th>r</th>\n",
              "      <th>i</th>\n",
              "      <th>z</th>\n",
              "      <th>Run_Number</th>\n",
              "      <th>Rerun_Number</th>\n",
              "      <th>Camera_Column</th>\n",
              "      <th>Field_Number</th>\n",
              "      <th>specobjid</th>\n",
              "      <th>redshift</th>\n",
              "      <th>plate</th>\n",
              "      <th>mjd</th>\n",
              "      <th>fiberid</th>\n",
              "    </tr>\n",
              "  </thead>\n",
              "  <tbody>\n",
              "    <tr>\n",
              "      <th>count</th>\n",
              "      <td>9150.000000</td>\n",
              "      <td>9150.000000</td>\n",
              "      <td>9150.000000</td>\n",
              "      <td>9150.000000</td>\n",
              "      <td>9150.000000</td>\n",
              "      <td>9150.000000</td>\n",
              "      <td>9150.000000</td>\n",
              "      <td>9150.000000</td>\n",
              "      <td>9150.0</td>\n",
              "      <td>9150.000000</td>\n",
              "      <td>9150.000000</td>\n",
              "      <td>9.150000e+03</td>\n",
              "      <td>9150.000000</td>\n",
              "      <td>9150.000000</td>\n",
              "      <td>9150.000000</td>\n",
              "      <td>9150.000000</td>\n",
              "    </tr>\n",
              "    <tr>\n",
              "      <th>mean</th>\n",
              "      <td>175.349953</td>\n",
              "      <td>14.303436</td>\n",
              "      <td>18.589297</td>\n",
              "      <td>17.250536</td>\n",
              "      <td>16.686981</td>\n",
              "      <td>16.418556</td>\n",
              "      <td>16.250796</td>\n",
              "      <td>975.917596</td>\n",
              "      <td>301.0</td>\n",
              "      <td>3.644481</td>\n",
              "      <td>302.138251</td>\n",
              "      <td>1.663396e+18</td>\n",
              "      <td>0.043896</td>\n",
              "      <td>1477.306448</td>\n",
              "      <td>52966.687104</td>\n",
              "      <td>350.422842</td>\n",
              "    </tr>\n",
              "    <tr>\n",
              "      <th>std</th>\n",
              "      <td>47.844894</td>\n",
              "      <td>24.879069</td>\n",
              "      <td>0.842478</td>\n",
              "      <td>0.876612</td>\n",
              "      <td>0.961771</td>\n",
              "      <td>1.027774</td>\n",
              "      <td>1.085480</td>\n",
              "      <td>272.211353</td>\n",
              "      <td>0.0</td>\n",
              "      <td>1.665374</td>\n",
              "      <td>162.636560</td>\n",
              "      <td>1.986829e+18</td>\n",
              "      <td>0.052491</td>\n",
              "      <td>1764.647895</td>\n",
              "      <td>1503.083498</td>\n",
              "      <td>205.659557</td>\n",
              "    </tr>\n",
              "    <tr>\n",
              "      <th>min</th>\n",
              "      <td>8.235100</td>\n",
              "      <td>-5.382632</td>\n",
              "      <td>12.988970</td>\n",
              "      <td>12.799550</td>\n",
              "      <td>12.431600</td>\n",
              "      <td>11.947210</td>\n",
              "      <td>11.610410</td>\n",
              "      <td>308.000000</td>\n",
              "      <td>301.0</td>\n",
              "      <td>1.000000</td>\n",
              "      <td>11.000000</td>\n",
              "      <td>2.995780e+17</td>\n",
              "      <td>-0.004136</td>\n",
              "      <td>266.000000</td>\n",
              "      <td>51578.000000</td>\n",
              "      <td>1.000000</td>\n",
              "    </tr>\n",
              "    <tr>\n",
              "      <th>25%</th>\n",
              "      <td>157.584047</td>\n",
              "      <td>-0.541007</td>\n",
              "      <td>18.124177</td>\n",
              "      <td>16.737642</td>\n",
              "      <td>16.103342</td>\n",
              "      <td>15.790297</td>\n",
              "      <td>15.551233</td>\n",
              "      <td>752.000000</td>\n",
              "      <td>301.0</td>\n",
              "      <td>2.000000</td>\n",
              "      <td>185.000000</td>\n",
              "      <td>3.400232e+17</td>\n",
              "      <td>0.000050</td>\n",
              "      <td>302.000000</td>\n",
              "      <td>51900.000000</td>\n",
              "      <td>183.000000</td>\n",
              "    </tr>\n",
              "    <tr>\n",
              "      <th>50%</th>\n",
              "      <td>180.326741</td>\n",
              "      <td>0.384792</td>\n",
              "      <td>18.822605</td>\n",
              "      <td>17.415660</td>\n",
              "      <td>16.757515</td>\n",
              "      <td>16.448885</td>\n",
              "      <td>16.263595</td>\n",
              "      <td>756.000000</td>\n",
              "      <td>301.0</td>\n",
              "      <td>4.000000</td>\n",
              "      <td>299.000000</td>\n",
              "      <td>4.989465e+17</td>\n",
              "      <td>0.030734</td>\n",
              "      <td>443.000000</td>\n",
              "      <td>51999.000000</td>\n",
              "      <td>347.000000</td>\n",
              "    </tr>\n",
              "    <tr>\n",
              "      <th>75%</th>\n",
              "      <td>201.069175</td>\n",
              "      <td>14.646150</td>\n",
              "      <td>19.246002</td>\n",
              "      <td>17.893400</td>\n",
              "      <td>17.369435</td>\n",
              "      <td>17.097865</td>\n",
              "      <td>16.959817</td>\n",
              "      <td>1331.000000</td>\n",
              "      <td>301.0</td>\n",
              "      <td>5.000000</td>\n",
              "      <td>413.000000</td>\n",
              "      <td>2.881348e+18</td>\n",
              "      <td>0.080849</td>\n",
              "      <td>2559.000000</td>\n",
              "      <td>54468.000000</td>\n",
              "      <td>508.000000</td>\n",
              "    </tr>\n",
              "    <tr>\n",
              "      <th>max</th>\n",
              "      <td>260.884382</td>\n",
              "      <td>68.542265</td>\n",
              "      <td>19.599900</td>\n",
              "      <td>19.918970</td>\n",
              "      <td>24.802040</td>\n",
              "      <td>28.179630</td>\n",
              "      <td>22.833060</td>\n",
              "      <td>1412.000000</td>\n",
              "      <td>301.0</td>\n",
              "      <td>6.000000</td>\n",
              "      <td>768.000000</td>\n",
              "      <td>9.468830e+18</td>\n",
              "      <td>0.855881</td>\n",
              "      <td>8410.000000</td>\n",
              "      <td>57481.000000</td>\n",
              "      <td>1000.000000</td>\n",
              "    </tr>\n",
              "  </tbody>\n",
              "</table>\n",
              "</div>\n",
              "    <div class=\"colab-df-buttons\">\n",
              "\n",
              "  <div class=\"colab-df-container\">\n",
              "    <button class=\"colab-df-convert\" onclick=\"convertToInteractive('df-764b23a9-45c9-4198-b0aa-26741d1eea69')\"\n",
              "            title=\"Convert this dataframe to an interactive table.\"\n",
              "            style=\"display:none;\">\n",
              "\n",
              "  <svg xmlns=\"http://www.w3.org/2000/svg\" height=\"24px\" viewBox=\"0 -960 960 960\">\n",
              "    <path d=\"M120-120v-720h720v720H120Zm60-500h600v-160H180v160Zm220 220h160v-160H400v160Zm0 220h160v-160H400v160ZM180-400h160v-160H180v160Zm440 0h160v-160H620v160ZM180-180h160v-160H180v160Zm440 0h160v-160H620v160Z\"/>\n",
              "  </svg>\n",
              "    </button>\n",
              "\n",
              "  <style>\n",
              "    .colab-df-container {\n",
              "      display:flex;\n",
              "      gap: 12px;\n",
              "    }\n",
              "\n",
              "    .colab-df-convert {\n",
              "      background-color: #E8F0FE;\n",
              "      border: none;\n",
              "      border-radius: 50%;\n",
              "      cursor: pointer;\n",
              "      display: none;\n",
              "      fill: #1967D2;\n",
              "      height: 32px;\n",
              "      padding: 0 0 0 0;\n",
              "      width: 32px;\n",
              "    }\n",
              "\n",
              "    .colab-df-convert:hover {\n",
              "      background-color: #E2EBFA;\n",
              "      box-shadow: 0px 1px 2px rgba(60, 64, 67, 0.3), 0px 1px 3px 1px rgba(60, 64, 67, 0.15);\n",
              "      fill: #174EA6;\n",
              "    }\n",
              "\n",
              "    .colab-df-buttons div {\n",
              "      margin-bottom: 4px;\n",
              "    }\n",
              "\n",
              "    [theme=dark] .colab-df-convert {\n",
              "      background-color: #3B4455;\n",
              "      fill: #D2E3FC;\n",
              "    }\n",
              "\n",
              "    [theme=dark] .colab-df-convert:hover {\n",
              "      background-color: #434B5C;\n",
              "      box-shadow: 0px 1px 3px 1px rgba(0, 0, 0, 0.15);\n",
              "      filter: drop-shadow(0px 1px 2px rgba(0, 0, 0, 0.3));\n",
              "      fill: #FFFFFF;\n",
              "    }\n",
              "  </style>\n",
              "\n",
              "    <script>\n",
              "      const buttonEl =\n",
              "        document.querySelector('#df-764b23a9-45c9-4198-b0aa-26741d1eea69 button.colab-df-convert');\n",
              "      buttonEl.style.display =\n",
              "        google.colab.kernel.accessAllowed ? 'block' : 'none';\n",
              "\n",
              "      async function convertToInteractive(key) {\n",
              "        const element = document.querySelector('#df-764b23a9-45c9-4198-b0aa-26741d1eea69');\n",
              "        const dataTable =\n",
              "          await google.colab.kernel.invokeFunction('convertToInteractive',\n",
              "                                                    [key], {});\n",
              "        if (!dataTable) return;\n",
              "\n",
              "        const docLinkHtml = 'Like what you see? Visit the ' +\n",
              "          '<a target=\"_blank\" href=https://colab.research.google.com/notebooks/data_table.ipynb>data table notebook</a>'\n",
              "          + ' to learn more about interactive tables.';\n",
              "        element.innerHTML = '';\n",
              "        dataTable['output_type'] = 'display_data';\n",
              "        await google.colab.output.renderOutput(dataTable, element);\n",
              "        const docLink = document.createElement('div');\n",
              "        docLink.innerHTML = docLinkHtml;\n",
              "        element.appendChild(docLink);\n",
              "      }\n",
              "    </script>\n",
              "  </div>\n",
              "\n",
              "\n",
              "<div id=\"df-ecbdb115-0c49-4a5a-9710-a7f46217867e\">\n",
              "  <button class=\"colab-df-quickchart\" onclick=\"quickchart('df-ecbdb115-0c49-4a5a-9710-a7f46217867e')\"\n",
              "            title=\"Suggest charts\"\n",
              "            style=\"display:none;\">\n",
              "\n",
              "<svg xmlns=\"http://www.w3.org/2000/svg\" height=\"24px\"viewBox=\"0 0 24 24\"\n",
              "     width=\"24px\">\n",
              "    <g>\n",
              "        <path d=\"M19 3H5c-1.1 0-2 .9-2 2v14c0 1.1.9 2 2 2h14c1.1 0 2-.9 2-2V5c0-1.1-.9-2-2-2zM9 17H7v-7h2v7zm4 0h-2V7h2v10zm4 0h-2v-4h2v4z\"/>\n",
              "    </g>\n",
              "</svg>\n",
              "  </button>\n",
              "\n",
              "<style>\n",
              "  .colab-df-quickchart {\n",
              "      --bg-color: #E8F0FE;\n",
              "      --fill-color: #1967D2;\n",
              "      --hover-bg-color: #E2EBFA;\n",
              "      --hover-fill-color: #174EA6;\n",
              "      --disabled-fill-color: #AAA;\n",
              "      --disabled-bg-color: #DDD;\n",
              "  }\n",
              "\n",
              "  [theme=dark] .colab-df-quickchart {\n",
              "      --bg-color: #3B4455;\n",
              "      --fill-color: #D2E3FC;\n",
              "      --hover-bg-color: #434B5C;\n",
              "      --hover-fill-color: #FFFFFF;\n",
              "      --disabled-bg-color: #3B4455;\n",
              "      --disabled-fill-color: #666;\n",
              "  }\n",
              "\n",
              "  .colab-df-quickchart {\n",
              "    background-color: var(--bg-color);\n",
              "    border: none;\n",
              "    border-radius: 50%;\n",
              "    cursor: pointer;\n",
              "    display: none;\n",
              "    fill: var(--fill-color);\n",
              "    height: 32px;\n",
              "    padding: 0;\n",
              "    width: 32px;\n",
              "  }\n",
              "\n",
              "  .colab-df-quickchart:hover {\n",
              "    background-color: var(--hover-bg-color);\n",
              "    box-shadow: 0 1px 2px rgba(60, 64, 67, 0.3), 0 1px 3px 1px rgba(60, 64, 67, 0.15);\n",
              "    fill: var(--button-hover-fill-color);\n",
              "  }\n",
              "\n",
              "  .colab-df-quickchart-complete:disabled,\n",
              "  .colab-df-quickchart-complete:disabled:hover {\n",
              "    background-color: var(--disabled-bg-color);\n",
              "    fill: var(--disabled-fill-color);\n",
              "    box-shadow: none;\n",
              "  }\n",
              "\n",
              "  .colab-df-spinner {\n",
              "    border: 2px solid var(--fill-color);\n",
              "    border-color: transparent;\n",
              "    border-bottom-color: var(--fill-color);\n",
              "    animation:\n",
              "      spin 1s steps(1) infinite;\n",
              "  }\n",
              "\n",
              "  @keyframes spin {\n",
              "    0% {\n",
              "      border-color: transparent;\n",
              "      border-bottom-color: var(--fill-color);\n",
              "      border-left-color: var(--fill-color);\n",
              "    }\n",
              "    20% {\n",
              "      border-color: transparent;\n",
              "      border-left-color: var(--fill-color);\n",
              "      border-top-color: var(--fill-color);\n",
              "    }\n",
              "    30% {\n",
              "      border-color: transparent;\n",
              "      border-left-color: var(--fill-color);\n",
              "      border-top-color: var(--fill-color);\n",
              "      border-right-color: var(--fill-color);\n",
              "    }\n",
              "    40% {\n",
              "      border-color: transparent;\n",
              "      border-right-color: var(--fill-color);\n",
              "      border-top-color: var(--fill-color);\n",
              "    }\n",
              "    60% {\n",
              "      border-color: transparent;\n",
              "      border-right-color: var(--fill-color);\n",
              "    }\n",
              "    80% {\n",
              "      border-color: transparent;\n",
              "      border-right-color: var(--fill-color);\n",
              "      border-bottom-color: var(--fill-color);\n",
              "    }\n",
              "    90% {\n",
              "      border-color: transparent;\n",
              "      border-bottom-color: var(--fill-color);\n",
              "    }\n",
              "  }\n",
              "</style>\n",
              "\n",
              "  <script>\n",
              "    async function quickchart(key) {\n",
              "      const quickchartButtonEl =\n",
              "        document.querySelector('#' + key + ' button');\n",
              "      quickchartButtonEl.disabled = true;  // To prevent multiple clicks.\n",
              "      quickchartButtonEl.classList.add('colab-df-spinner');\n",
              "      try {\n",
              "        const charts = await google.colab.kernel.invokeFunction(\n",
              "            'suggestCharts', [key], {});\n",
              "      } catch (error) {\n",
              "        console.error('Error during call to suggestCharts:', error);\n",
              "      }\n",
              "      quickchartButtonEl.classList.remove('colab-df-spinner');\n",
              "      quickchartButtonEl.classList.add('colab-df-quickchart-complete');\n",
              "    }\n",
              "    (() => {\n",
              "      let quickchartButtonEl =\n",
              "        document.querySelector('#df-ecbdb115-0c49-4a5a-9710-a7f46217867e button');\n",
              "      quickchartButtonEl.style.display =\n",
              "        google.colab.kernel.accessAllowed ? 'block' : 'none';\n",
              "    })();\n",
              "  </script>\n",
              "</div>\n",
              "\n",
              "    </div>\n",
              "  </div>\n"
            ],
            "application/vnd.google.colaboratory.intrinsic+json": {
              "type": "dataframe",
              "summary": "{\n  \"name\": \"X\",\n  \"rows\": 8,\n  \"fields\": [\n    {\n      \"column\": \"Right_Ascention\",\n      \"properties\": {\n        \"dtype\": \"number\",\n        \"std\": 3183.97999619383,\n        \"min\": 8.235100497,\n        \"max\": 9150.0,\n        \"num_unique_values\": 8,\n        \"samples\": [\n          175.3499525743308,\n          180.32674095,\n          9150.0\n        ],\n        \"semantic_type\": \"\",\n        \"description\": \"\"\n      }\n    },\n    {\n      \"column\": \"Declination\",\n      \"properties\": {\n        \"dtype\": \"number\",\n        \"std\": 3229.1970129377564,\n        \"min\": -5.382632499,\n        \"max\": 9150.0,\n        \"num_unique_values\": 8,\n        \"samples\": [\n          14.303435719741639,\n          0.38479245799999995,\n          9150.0\n        ],\n        \"semantic_type\": \"\",\n        \"description\": \"\"\n      }\n    },\n    {\n      \"column\": \"u\",\n      \"properties\": {\n        \"dtype\": \"number\",\n        \"std\": 3229.5541009378753,\n        \"min\": 0.8424784574927461,\n        \"max\": 9150.0,\n        \"num_unique_values\": 8,\n        \"samples\": [\n          18.58929671693989,\n          18.822605,\n          9150.0\n        ],\n        \"semantic_type\": \"\",\n        \"description\": \"\"\n      }\n    },\n    {\n      \"column\": \"g\",\n      \"properties\": {\n        \"dtype\": \"number\",\n        \"std\": 3229.8222069217504,\n        \"min\": 0.8766116700848089,\n        \"max\": 9150.0,\n        \"num_unique_values\": 8,\n        \"samples\": [\n          17.25053640437158,\n          17.415660000000003,\n          9150.0\n        ],\n        \"semantic_type\": \"\",\n        \"description\": \"\"\n      }\n    },\n    {\n      \"column\": \"r\",\n      \"properties\": {\n        \"dtype\": \"number\",\n        \"std\": 3229.7114432248823,\n        \"min\": 0.9617705337794893,\n        \"max\": 9150.0,\n        \"num_unique_values\": 8,\n        \"samples\": [\n          16.68698129398907,\n          16.757514999999998,\n          9150.0\n        ],\n        \"semantic_type\": \"\",\n        \"description\": \"\"\n      }\n    },\n    {\n      \"column\": \"i\",\n      \"properties\": {\n        \"dtype\": \"number\",\n        \"std\": 3229.622298622268,\n        \"min\": 1.027773990263097,\n        \"max\": 9150.0,\n        \"num_unique_values\": 8,\n        \"samples\": [\n          16.418555926775955,\n          16.448884999999997,\n          9150.0\n        ],\n        \"semantic_type\": \"\",\n        \"description\": \"\"\n      }\n    },\n    {\n      \"column\": \"z\",\n      \"properties\": {\n        \"dtype\": \"number\",\n        \"std\": 3229.9407519873,\n        \"min\": 1.0854800749913434,\n        \"max\": 9150.0,\n        \"num_unique_values\": 8,\n        \"samples\": [\n          16.250796190163932,\n          16.263595000000002,\n          9150.0\n        ],\n        \"semantic_type\": \"\",\n        \"description\": \"\"\n      }\n    },\n    {\n      \"column\": \"Run_Number\",\n      \"properties\": {\n        \"dtype\": \"number\",\n        \"std\": 2970.852688442523,\n        \"min\": 272.2113532938565,\n        \"max\": 9150.0,\n        \"num_unique_values\": 8,\n        \"samples\": [\n          975.9175956284153,\n          756.0,\n          9150.0\n        ],\n        \"semantic_type\": \"\",\n        \"description\": \"\"\n      }\n    },\n    {\n      \"column\": \"Rerun_Number\",\n      \"properties\": {\n        \"dtype\": \"number\",\n        \"std\": 3145.5606813412455,\n        \"min\": 0.0,\n        \"max\": 9150.0,\n        \"num_unique_values\": 3,\n        \"samples\": [\n          9150.0,\n          301.0,\n          0.0\n        ],\n        \"semantic_type\": \"\",\n        \"description\": \"\"\n      }\n    },\n    {\n      \"column\": \"Camera_Column\",\n      \"properties\": {\n        \"dtype\": \"number\",\n        \"std\": 3233.836649796241,\n        \"min\": 1.0,\n        \"max\": 9150.0,\n        \"num_unique_values\": 8,\n        \"samples\": [\n          3.64448087431694,\n          4.0,\n          9150.0\n        ],\n        \"semantic_type\": \"\",\n        \"description\": \"\"\n      }\n    },\n    {\n      \"column\": \"Field_Number\",\n      \"properties\": {\n        \"dtype\": \"number\",\n        \"std\": 3134.808690730369,\n        \"min\": 11.0,\n        \"max\": 9150.0,\n        \"num_unique_values\": 8,\n        \"samples\": [\n          302.13825136612024,\n          299.0,\n          9150.0\n        ],\n        \"semantic_type\": \"\",\n        \"description\": \"\"\n      }\n    },\n    {\n      \"column\": \"specobjid\",\n      \"properties\": {\n        \"dtype\": \"number\",\n        \"std\": 3.126194387785468e+18,\n        \"min\": 9150.0,\n        \"max\": 9.46883e+18,\n        \"num_unique_values\": 8,\n        \"samples\": [\n          1.6633955795628419e+18,\n          4.989465e+17,\n          9150.0\n        ],\n        \"semantic_type\": \"\",\n        \"description\": \"\"\n      }\n    },\n    {\n      \"column\": \"redshift\",\n      \"properties\": {\n        \"dtype\": \"number\",\n        \"std\": 3234.9600106057014,\n        \"min\": -0.004136078,\n        \"max\": 9150.0,\n        \"num_unique_values\": 8,\n        \"samples\": [\n          0.04389569545974864,\n          0.0307338,\n          9150.0\n        ],\n        \"semantic_type\": \"\",\n        \"description\": \"\"\n      }\n    },\n    {\n      \"column\": \"plate\",\n      \"properties\": {\n        \"dtype\": \"number\",\n        \"std\": 3633.272565019046,\n        \"min\": 266.0,\n        \"max\": 9150.0,\n        \"num_unique_values\": 8,\n        \"samples\": [\n          1477.3064480874316,\n          443.0,\n          9150.0\n        ],\n        \"semantic_type\": \"\",\n        \"description\": \"\"\n      }\n    },\n    {\n      \"column\": \"mjd\",\n      \"properties\": {\n        \"dtype\": \"number\",\n        \"std\": 22428.181868700478,\n        \"min\": 1503.0834984816486,\n        \"max\": 57481.0,\n        \"num_unique_values\": 8,\n        \"samples\": [\n          52966.687103825134,\n          51999.0,\n          9150.0\n        ],\n        \"semantic_type\": \"\",\n        \"description\": \"\"\n      }\n    },\n    {\n      \"column\": \"fiberid\",\n      \"properties\": {\n        \"dtype\": \"number\",\n        \"std\": 3118.062240569308,\n        \"min\": 1.0,\n        \"max\": 9150.0,\n        \"num_unique_values\": 8,\n        \"samples\": [\n          350.42284153005465,\n          347.0,\n          9150.0\n        ],\n        \"semantic_type\": \"\",\n        \"description\": \"\"\n      }\n    }\n  ]\n}"
            }
          },
          "metadata": {},
          "execution_count": 104
        }
      ]
    },
    {
      "cell_type": "code",
      "source": [
        "target = LabelEncoder()\n",
        "y_train = target.fit_transform(y_train)  #y_train and y_test have values \"Galaxy\" and \"Star\"\n",
        "y_test = target.transform(y_test)"
      ],
      "metadata": {
        "id": "9Otn15d1gIxc"
      },
      "execution_count": 105,
      "outputs": []
    },
    {
      "cell_type": "code",
      "source": [
        "mi = mutual_info_classif(X_train,y_train)\n",
        "mi = np.sort(mi)[::-1]  #get mi scores for seeing relations between various columns with target"
      ],
      "metadata": {
        "id": "45L411YUEuSd"
      },
      "execution_count": 106,
      "outputs": []
    },
    {
      "cell_type": "code",
      "source": [
        "feature_names = X_train.columns\n",
        "\n",
        "plt.xlabel(\"mutual info\")\n",
        "plt.ylabel(\"features\")\n",
        "sns.barplot(x = mi, y = feature_names)"
      ],
      "metadata": {
        "colab": {
          "base_uri": "https://localhost:8080/",
          "height": 466
        },
        "id": "uMIjsEV5gAdL",
        "outputId": "d11bc8f9-17bc-44eb-8311-b094dd2d0e41"
      },
      "execution_count": 107,
      "outputs": [
        {
          "output_type": "execute_result",
          "data": {
            "text/plain": [
              "<Axes: xlabel='mutual info', ylabel='features'>"
            ]
          },
          "metadata": {},
          "execution_count": 107
        },
        {
          "output_type": "display_data",
          "data": {
            "text/plain": [
              "<Figure size 640x480 with 1 Axes>"
            ],
            "image/png": "[encoded data removed]"
          },
          "metadata": {}
        }
      ]
    },
    {
      "cell_type": "markdown",
      "source": [
        "Right_Ascention, Declination, u and g have a very high mutual info score, so they will be considered"
      ],
      "metadata": {
        "id": "UOjYWx-FFX0H"
      }
    },
    {
      "cell_type": "code",
      "source": [
        "X_train.Rerun_Number.value_counts()"
      ],
      "metadata": {
        "colab": {
          "base_uri": "https://localhost:8080/"
        },
        "id": "lL3oeU1PCRTt",
        "outputId": "fccbf38e-2208-467a-aa0f-b143f48e2aa0"
      },
      "execution_count": 108,
      "outputs": [
        {
          "output_type": "execute_result",
          "data": {
            "text/plain": [
              "Rerun_Number\n",
              "301    7320\n",
              "Name: count, dtype: int64"
            ]
          },
          "metadata": {},
          "execution_count": 108
        }
      ]
    },
    {
      "cell_type": "code",
      "source": [
        "X_train.drop([\"Rerun_Number\"], axis = 1, inplace = True) #all rows have same value, so not useful to consider"
      ],
      "metadata": {
        "id": "pRZA7ESPKIHJ"
      },
      "execution_count": 109,
      "outputs": []
    },
    {
      "cell_type": "code",
      "source": [
        "for col in X_train.columns:\n",
        "  grp1 = X_train[col][y_train == 0]\n",
        "  grp2 = X_train[col][y_train == 1]\n",
        "\n",
        "  f_stat, p_val = f_oneway(grp1, grp2)\n",
        "\n",
        "  print(f\"ANOVA results for {col}: F-statistic = {f_stat}, p-value = {p_val}\") #doing ANOVA test to check relations which mutual_info_classif might have missed/overlooked"
      ],
      "metadata": {
        "colab": {
          "base_uri": "https://localhost:8080/"
        },
        "id": "DechM59SFfq_",
        "outputId": "befe475c-c651-44d1-c70e-f3af978d9928"
      },
      "execution_count": 110,
      "outputs": [
        {
          "output_type": "stream",
          "name": "stdout",
          "text": [
            "ANOVA results for Right_Ascention: F-statistic = 17.791723648313067, p-value = 2.4942502251720275e-05\n",
            "ANOVA results for Declination: F-statistic = 40.77844395573415, p-value = 1.8092880849693136e-10\n",
            "ANOVA results for u: F-statistic = 622.0379389781372, p-value = 7.638987109212996e-132\n",
            "ANOVA results for g: F-statistic = 122.93622650074715, p-value = 2.419506216794605e-28\n",
            "ANOVA results for r: F-statistic = 10.92204898979223, p-value = 0.0009548345717828579\n",
            "ANOVA results for i: F-statistic = 171.3999440491204, p-value = 9.94495562304233e-39\n",
            "ANOVA results for z: F-statistic = 410.0394072562298, p-value = 9.385074465729394e-89\n",
            "ANOVA results for Run_Number: F-statistic = 55.87951961164823, p-value = 8.600235040380481e-14\n",
            "ANOVA results for Camera_Column: F-statistic = 0.07713056756353086, p-value = 0.7812321538168475\n",
            "ANOVA results for Field_Number: F-statistic = 0.0338041151739283, p-value = 0.8541291993680123\n",
            "ANOVA results for specobjid: F-statistic = 4521.220730510545, p-value = 0.0\n",
            "ANOVA results for redshift: F-statistic = 10602.668094850034, p-value = 0.0\n",
            "ANOVA results for plate: F-statistic = 4521.272548417432, p-value = 0.0\n",
            "ANOVA results for mjd: F-statistic = 6284.822133381073, p-value = 0.0\n",
            "ANOVA results for fiberid: F-statistic = 22.608419777485583, p-value = 2.0241048400510333e-06\n"
          ]
        }
      ]
    },
    {
      "cell_type": "markdown",
      "source": [
        "Apart from the above columns considered, r, i, z, Run_Number, fiberid also have strong relation with target, so will be considered"
      ],
      "metadata": {
        "id": "X-NfCAz_Hsbq"
      }
    },
    {
      "cell_type": "code",
      "source": [
        "final_cols = ['Right_Ascention', 'Declination', 'u', 'g', 'r', 'i', 'z', 'Run_Number', 'fiberid']\n",
        "\n",
        "X_train = X_train[final_cols]\n",
        "X_test = X_test[final_cols]   #keeping only important columns for training model"
      ],
      "metadata": {
        "id": "qEAGjD39KQ_X"
      },
      "execution_count": 111,
      "outputs": []
    },
    {
      "cell_type": "code",
      "source": [
        "scaler = StandardScaler()\n",
        "\n",
        "X_train_scaled = X_train.copy()\n",
        "X_test_scaled = X_test.copy()\n",
        "\n",
        "cols_scaled = ['Right_Ascention', 'Declination', 'u', 'g', 'r', 'i', 'z']\n",
        "X_train_scaled[cols_scaled] = scaler.fit_transform(X_train[cols_scaled])  #scaling features to make distributions more uniform\n",
        "X_test_scaled[cols_scaled] = scaler.transform(X_test[cols_scaled])"
      ],
      "metadata": {
        "id": "uAImgYbUf-OB"
      },
      "execution_count": 112,
      "outputs": []
    },
    {
      "cell_type": "code",
      "source": [
        "dt_model = DecisionTreeClassifier(random_state = 69)\n",
        "rf_model = RandomForestClassifier(random_state = 69)\n",
        "hgb_model = HistGradientBoostingClassifier(random_state = 69)   #I am considering only these three, there are other models which can be better, but I don't have sufficient knowledge about others"
      ],
      "metadata": {
        "id": "qzO-NgGNiKEJ"
      },
      "execution_count": 113,
      "outputs": []
    },
    {
      "cell_type": "code",
      "source": [
        "dt_grid = {\n",
        "    'max_depth': [None, 5, 10],\n",
        "    'min_samples_split': [2, 5, 10],\n",
        "    'min_samples_leaf': [1, 2, 4]\n",
        "    }\n",
        "\n",
        "rf_grid = {\n",
        "    'n_estimators': [100, 300, 500],\n",
        "    'max_depth': [None, 5, 10],\n",
        "    'min_samples_split': [2, 5, 10],\n",
        "    'min_samples_leaf': [1, 2, 4]\n",
        "    }\n",
        "\n",
        "hgb_grid = {\n",
        "    'learning_rate': [0.1, 0.01, 0.01],\n",
        "    'max_iter': [100, 300, 500],\n",
        "    'max_leaf_nodes': [None, 10, 20],\n",
        "    'max_depth': [None, 5, 10],\n",
        "    'min_samples_leaf': [1, 2, 4]\n",
        "    }                                                  #making parameter_distributions for searching best parameters using RandomizedSearchCV\n"
      ],
      "metadata": {
        "id": "WtBkixftiYzA"
      },
      "execution_count": 117,
      "outputs": []
    },
    {
      "cell_type": "code",
      "source": [
        "dt_grid_search = RandomizedSearchCV(estimator=dt_model, param_distributions=dt_grid, cv=5, scoring='accuracy')\n",
        "\n",
        "dt_grid_search.fit(X_train_scaled, y_train)\n",
        "\n",
        "print(\"Best Parameters:\", dt_grid_search.best_params_)\n",
        "print(\"Best CV Score:\", dt_grid_search.best_score_)"
      ],
      "metadata": {
        "colab": {
          "base_uri": "https://localhost:8080/"
        },
        "id": "XpGUuNDJl2vl",
        "outputId": "6c457273-5360-4cf7-db2d-9d3a915e8af6"
      },
      "execution_count": 118,
      "outputs": [
        {
          "output_type": "stream",
          "name": "stdout",
          "text": [
            "Best Parameters: {'min_samples_split': 5, 'min_samples_leaf': 4, 'max_depth': None}\n",
            "Best CV Score: 0.894808743169399\n"
          ]
        }
      ]
    },
    {
      "cell_type": "code",
      "source": [
        "rf_grid_search = RandomizedSearchCV(estimator=rf_model, param_distributions=rf_grid, cv=5, scoring='accuracy')\n",
        "\n",
        "rf_grid_search.fit(X_train_scaled, y_train)\n",
        "\n",
        "print(\"Best Parameters:\", rf_grid_search.best_params_)\n",
        "print(\"Best CV Score:\", rf_grid_search.best_score_)"
      ],
      "metadata": {
        "colab": {
          "base_uri": "https://localhost:8080/"
        },
        "id": "QJsQ6GpBl-st",
        "outputId": "277da274-3a61-4173-f438-5959ae99efd5"
      },
      "execution_count": 119,
      "outputs": [
        {
          "output_type": "stream",
          "name": "stdout",
          "text": [
            "Best Parameters: {'n_estimators': 100, 'min_samples_split': 2, 'min_samples_leaf': 1, 'max_depth': None}\n",
            "Best CV Score: 0.9300546448087431\n"
          ]
        }
      ]
    },
    {
      "cell_type": "code",
      "source": [
        "hgb_grid_search = RandomizedSearchCV(estimator=hgb_model, param_distributions=hgb_grid, cv=5, scoring='accuracy')\n",
        "\n",
        "hgb_grid_search.fit(X_train_scaled, y_train)\n",
        "\n",
        "print(\"Best Parameters:\", hgb_grid_search.best_params_)\n",
        "print(\"Best CV Score:\", hgb_grid_search.best_score_)"
      ],
      "metadata": {
        "colab": {
          "base_uri": "https://localhost:8080/"
        },
        "id": "fGdK2WdymDys",
        "outputId": "3d3e0af0-2773-42ba-f543-9cdc42966e41"
      },
      "execution_count": 120,
      "outputs": [
        {
          "output_type": "stream",
          "name": "stdout",
          "text": [
            "Best Parameters: {'min_samples_leaf': 2, 'max_leaf_nodes': None, 'max_iter': 300, 'max_depth': 10, 'learning_rate': 0.1}\n",
            "Best CV Score: 0.9453551912568307\n"
          ]
        }
      ]
    },
    {
      "cell_type": "markdown",
      "source": [
        "HistGradientBoostingClassifier gave best accuracy, so will consider it first (if cross val scores are bad will consider Random forest and decision tree)"
      ],
      "metadata": {
        "id": "BUk5F9rp0b6G"
      }
    },
    {
      "cell_type": "code",
      "source": [
        "best_hist_model = hgb_grid_search.best_estimator_\n",
        "\n",
        "kf = KFold(n_splits=5, shuffle=True, random_state=69)\n",
        "skf = StratifiedKFold(n_splits=5, shuffle=True, random_state=69)\n",
        "\n",
        "kf_scores = cross_val_score(best_hist_model, X_train, y_train, cv = kf, scoring = 'accuracy')\n",
        "skf_scores = cross_val_score(best_hist_model, X_train, y_train, cv = skf, scoring = 'accuracy')\n",
        "\n",
        "print(\"KFold Accuracy:\", kf_scores)\n",
        "print(\"StratifiedKFold Accuracy:\", skf_scores)"
      ],
      "metadata": {
        "colab": {
          "base_uri": "https://localhost:8080/"
        },
        "id": "dWjw9N800E4k",
        "outputId": "efbffd84-b7c7-47f2-fc8d-52b47fbbb30b"
      },
      "execution_count": 121,
      "outputs": [
        {
          "output_type": "stream",
          "name": "stdout",
          "text": [
            "KFold Accuracy: [0.93647541 0.94808743 0.93579235 0.94603825 0.94535519]\n",
            "StratifiedKFold Accuracy: [0.95013661 0.94262295 0.93852459 0.95081967 0.93579235]\n"
          ]
        }
      ]
    },
    {
      "cell_type": "markdown",
      "source": [
        "Accuracy is quite good, so HistGradientBoostingClassifier will be taken as final model"
      ],
      "metadata": {
        "id": "S0ec5kZA18Ja"
      }
    },
    {
      "cell_type": "code",
      "source": [
        "y_pred = best_hist_model.predict(X_test_scaled)\n",
        "\n",
        "preds = target.inverse_transform(y_pred)"
      ],
      "metadata": {
        "id": "h9V6YHpb2LZy"
      },
      "execution_count": 122,
      "outputs": []
    },
    {
      "cell_type": "code",
      "source": [
        "labels = [\"Galaxy\", \"Star\"]\n",
        "\n",
        "cm = confusion_matrix(y_test, y_pred)\n",
        "sns.heatmap(cm, annot=True, fmt=\"d\", xticklabels=labels, yticklabels=labels)\n",
        "plt.xlabel(\"Predicted\")\n",
        "plt.ylabel(\"Actual\")\n",
        "\n",
        "rept = classification_report(y_test, y_pred, target_names = labels)\n",
        "print(rept)"
      ],
      "metadata": {
        "colab": {
          "base_uri": "https://localhost:8080/",
          "height": 605
        },
        "id": "xfbzmhP42g3a",
        "outputId": "bf8bc935-a99d-4603-9240-a84d8bf56f11"
      },
      "execution_count": 123,
      "outputs": [
        {
          "output_type": "stream",
          "name": "stdout",
          "text": [
            "              precision    recall  f1-score   support\n",
            "\n",
            "      Galaxy       0.96      0.93      0.95       978\n",
            "        Star       0.93      0.96      0.94       852\n",
            "\n",
            "    accuracy                           0.94      1830\n",
            "   macro avg       0.94      0.94      0.94      1830\n",
            "weighted avg       0.94      0.94      0.94      1830\n",
            "\n"
          ]
        },
        {
          "output_type": "display_data",
          "data": {
            "text/plain": [
              "<Figure size 640x480 with 2 Axes>"
            ],
            "image/png": "[encoded data removed]"
          },
          "metadata": {}
        }
      ]
    },
    {
      "cell_type": "markdown",
      "source": [
        "As can be seen from the classification report and confusion matrix, the model performed quite well on the unseen testing set (X_test and y_test here). So it can be used for further analysis"
      ],
      "metadata": {
        "id": "VLXfHIp_EXP2"
      }
    }
  ]
}